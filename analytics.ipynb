{
 "cells": [
  {
   "cell_type": "markdown",
   "source": [
    "# Setup"
   ],
   "metadata": {
    "collapsed": false
   }
  },
  {
   "cell_type": "code",
   "source": [
    "import time\n",
    "\n",
    "import tenseal as ts\n",
    "POLY_MODULUS_DEGREE = 4096\n",
    "# Setup TenSEAL context\n",
    "context = ts.context(\n",
    "    ts.SCHEME_TYPE.BFV,\n",
    "    poly_modulus_degree=POLY_MODULUS_DEGREE,\n",
    "    plain_modulus=1032193\n",
    ")\n",
    "context.generate_galois_keys()\n",
    "# Enable serialization to easily share the context\n",
    "#context.global_scale = 2**20"
   ],
   "metadata": {
    "collapsed": false,
    "ExecuteTime": {
     "end_time": "2024-09-16T10:19:05.814668Z",
     "start_time": "2024-09-16T10:19:05.737642Z"
    }
   },
   "outputs": [],
   "execution_count": 30
  },
  {
   "metadata": {
    "ExecuteTime": {
     "end_time": "2024-09-16T10:19:06.226442Z",
     "start_time": "2024-09-16T10:19:05.815669Z"
    }
   },
   "cell_type": "code",
   "source": [
    "POLY_MODULUS_DEGREE = 4096 * 2\n",
    "#POLY_MODULUS_DEGREE = 16384\n",
    "# Setup TenSEAL context\n",
    "context = ts.context(\n",
    "    ts.SCHEME_TYPE.BFV,\n",
    "    poly_modulus_degree=POLY_MODULUS_DEGREE,\n",
    "    plain_modulus=536903681\n",
    ")\n",
    "context.generate_galois_keys()"
   ],
   "outputs": [],
   "execution_count": 31
  },
  {
   "cell_type": "code",
   "source": [
    "# Helper functions\n",
    "def encrypt_value(value):\n",
    "    encrypted_value = ts.bfv_vector(context, [value])\n",
    "    return encrypted_value\n",
    "\n",
    "def decrypt_value(encrypted_value):\n",
    "    decrypted_value = encrypted_value.decrypt()\n",
    "    return decrypted_value[0]"
   ],
   "metadata": {
    "collapsed": false,
    "ExecuteTime": {
     "end_time": "2024-09-16T10:19:06.242349Z",
     "start_time": "2024-09-16T10:19:06.227444Z"
    }
   },
   "outputs": [],
   "execution_count": 32
  },
  {
   "cell_type": "code",
   "source": [
    "vector = [i for i in range(4096)]\n",
    "encrypted_vector = ts.bfv_vector(context, vector)\n",
    "serialized = encrypted_vector.serialize()\n",
    "size = len(serialized)\n",
    "size_per_element = size/1000\n",
    "print(f\"Size of the encrypted vecotor: {size/8/1024} KB\")\n",
    "print(f\"Size per element: {size_per_element} bytes\")\n"
   ],
   "metadata": {
    "collapsed": false,
    "ExecuteTime": {
     "end_time": "2024-09-16T10:19:06.257359Z",
     "start_time": "2024-09-16T10:19:06.243349Z"
    }
   },
   "outputs": [
    {
     "name": "stdout",
     "output_type": "stream",
     "text": [
      "Size of the encrypted vecotor: 52.789306640625 KB\n",
      "Size per element: 432.45 bytes\n"
     ]
    }
   ],
   "execution_count": 33
  },
  {
   "cell_type": "markdown",
   "source": [
    "# Computation"
   ],
   "metadata": {
    "collapsed": false
   }
  },
  {
   "cell_type": "code",
   "source": [
    "def calculate_encrypted_sum_single(vector):\n",
    "    encrypted_sum = encrypt_value(0)\n",
    "    for value in vector:\n",
    "        encrypted_value = encrypt_value(value)\n",
    "        encrypted_sum += encrypted_value\n",
    "    return encrypted_sum\n",
    "\n",
    "vector = [i for i in range(10)]\n",
    "encrypted_sum = calculate_encrypted_sum_single(vector)\n",
    "decrypted_sum = decrypt_value(encrypted_sum)\n",
    "print(f\"Encrypted sum: {decrypted_sum}\")"
   ],
   "metadata": {
    "collapsed": false,
    "ExecuteTime": {
     "end_time": "2024-09-16T10:19:06.305376Z",
     "start_time": "2024-09-16T10:19:06.258360Z"
    }
   },
   "outputs": [
    {
     "name": "stdout",
     "output_type": "stream",
     "text": [
      "Encrypted sum: 45\n"
     ]
    }
   ],
   "execution_count": 34
  },
  {
   "cell_type": "code",
   "source": [
    "def calculate_encrypted_sum(vector):\n",
    "    \"\"\"\n",
    "    This function works for vectors of any size\n",
    "    :param vector:\n",
    "    :return:\n",
    "    \"\"\"\n",
    "    encrypted_vector = ts.bfv_vector(context, vector)\n",
    "    encrypted_sum = encrypted_vector.sum()\n",
    "    return encrypted_sum"
   ],
   "metadata": {
    "collapsed": false,
    "ExecuteTime": {
     "end_time": "2024-09-16T10:19:06.320890Z",
     "start_time": "2024-09-16T10:19:06.306378Z"
    }
   },
   "outputs": [],
   "execution_count": 35
  },
  {
   "cell_type": "code",
   "source": [
    "import time\n",
    "\n",
    "NUMBER_OF_ELEMENTS = 1750\n",
    "\n",
    "vector = [i for i in range(NUMBER_OF_ELEMENTS)]\n",
    "print(f\"Vectorsum: {sum(vector)}\")\n",
    "start = time.perf_counter_ns()\n",
    "\n",
    "encrypted_vector = ts.bfv_vector(context, vector)\n",
    "encrypted_sum = encrypted_vector.sum()\n",
    "\n",
    "decrypted_sum = encrypted_sum.decrypt()\n",
    "\n",
    "stop = time.perf_counter_ns()\n",
    "print(f\"Time: {(stop-start)/1e6} ms\")\n",
    "\n",
    "decrypted_sum"
   ],
   "metadata": {
    "collapsed": false,
    "ExecuteTime": {
     "end_time": "2024-09-16T10:19:06.447476Z",
     "start_time": "2024-09-16T10:19:06.321892Z"
    }
   },
   "outputs": [
    {
     "name": "stdout",
     "output_type": "stream",
     "text": [
      "Vectorsum: 1530375\n",
      "Time: 118.3716 ms\n"
     ]
    },
    {
     "data": {
      "text/plain": [
       "[1530375]"
      ]
     },
     "execution_count": 36,
     "metadata": {},
     "output_type": "execute_result"
    }
   ],
   "execution_count": 36
  },
  {
   "cell_type": "code",
   "source": [
    "# Test the same performance with a same size vector using numpy\n",
    "import numpy as np\n",
    "\n",
    "vector = np.arange(NUMBER_OF_ELEMENTS)\n",
    "start = time.perf_counter_ns()\n",
    "sum_vector = np.sum(vector)\n",
    "stop = time.perf_counter_ns()\n",
    "print(f\"Time: {(stop-start)/1e6} ms\")\n",
    "sum_vector\n",
    "\n"
   ],
   "metadata": {
    "collapsed": false,
    "ExecuteTime": {
     "end_time": "2024-09-16T10:19:06.462483Z",
     "start_time": "2024-09-16T10:19:06.448476Z"
    }
   },
   "outputs": [
    {
     "name": "stdout",
     "output_type": "stream",
     "text": [
      "Time: 0.0603 ms\n"
     ]
    },
    {
     "data": {
      "text/plain": [
       "1530375"
      ]
     },
     "execution_count": 37,
     "metadata": {},
     "output_type": "execute_result"
    }
   ],
   "execution_count": 37
  },
  {
   "cell_type": "code",
   "source": [
    "# test the performance of the encryption vs the numpy sum\n",
    "# go from 100 to 100000 elements\n",
    "# plot the time taken for each\n",
    "import matplotlib.pyplot as plt\n",
    "\n",
    "times_numpy = []\n",
    "times_tenseal = []\n",
    "times_tenseal_single = []\n",
    "times_tenseal_encrypt = []\n",
    "times_tenseal_decrypt = []\n",
    "\n",
    "START = 100\n",
    "NUMBER_OF_ELEMENTS = 2100\n",
    "STEPS = 100\n",
    "\n",
    "for i in range(START, NUMBER_OF_ELEMENTS, STEPS):\n",
    "    print(f\"Calculating for {i} elements\")\n",
    "    times_temp = []\n",
    "    for j in range(1000):\n",
    "        vector = np.arange(i)\n",
    "        start = time.perf_counter_ns()\n",
    "        sum_vector = np.sum(vector)\n",
    "        stop = time.perf_counter_ns()\n",
    "        times_temp.append((stop-start)/1e6)\n",
    "    times_numpy.append(sum(times_temp)/len(times_temp))\n",
    "    \n",
    "    #print(f\"Done with numpy\")\n",
    "    \n",
    "    times_temp.clear()\n",
    "    times_temp_encrypt = []\n",
    "    times_temp_decrypt = []\n",
    "    for j in range(100):\n",
    "        start = time.perf_counter_ns()\n",
    "        encrypted_vector = ts.bfv_vector(context, vector)\n",
    "        times_temp_encrypt.append((time.perf_counter_ns()-start)/1e6)\n",
    "        \n",
    "        # Sum the encrypted vector elements\n",
    "        start = time.perf_counter_ns()\n",
    "        encrypted_sum = encrypted_vector.sum()\n",
    "        times_temp.append((time.perf_counter_ns()-start)/1e6)\n",
    "        \n",
    "        # Decrypt the sum\n",
    "        start = time.perf_counter_ns()\n",
    "        decrypted_sum = encrypted_sum.decrypt()\n",
    "        times_temp_decrypt.append((time.perf_counter_ns()-start)/1e6)\n",
    "    \n",
    "    # times_tenseal.append(sum(times_temp)/len(times_temp))\n",
    "    # times_tenseal_encrypt.append(sum(times_temp_encrypt)/len(times_temp_encrypt))\n",
    "    # times_tenseal_decrypt.append(sum(times_temp_decrypt)/len(times_temp_decrypt))\n",
    "    \n",
    "    # use median instead of mean\n",
    "    times_tenseal.append(np.median(times_temp))\n",
    "    times_tenseal_encrypt.append(np.median(times_temp_encrypt))\n",
    "    times_tenseal_decrypt.append(np.median(times_temp_decrypt))\n",
    "    \n",
    "    # print(f\"Done with tenseal\")\n",
    "    \"\"\"\n",
    "    times_temp.clear()\n",
    "    for j in range(100):\n",
    "        start = time.perf_counter_ns()\n",
    "        encrypted_sum = calculate_encrypted_sum_single(vector)\n",
    "        decrypted_sum = decrypt_value(encrypted_sum)\n",
    "        stop = time.perf_counter_ns()\n",
    "        times_temp.append((stop-start)/1e6)\n",
    "    times_tenseal_single.append(sum(times_temp)/len(times_temp))\n",
    "    \n",
    "    print(f\"Done with tenseal single\")\n",
    "    \n",
    "    print(f\"Done with {i} elements\")\n",
    "    \"\"\"\n"
   ],
   "metadata": {
    "collapsed": false,
    "jupyter": {
     "is_executing": true
    },
    "ExecuteTime": {
     "start_time": "2024-09-16T10:19:06.463488Z"
    }
   },
   "outputs": [
    {
     "name": "stdout",
     "output_type": "stream",
     "text": [
      "Calculating for 100 elements\n",
      "Calculating for 200 elements\n",
      "Calculating for 300 elements\n",
      "Calculating for 400 elements\n",
      "Calculating for 500 elements\n",
      "Calculating for 600 elements\n",
      "Calculating for 700 elements\n",
      "Calculating for 800 elements\n"
     ]
    }
   ],
   "execution_count": null
  },
  {
   "metadata": {
    "jupyter": {
     "is_executing": true
    }
   },
   "cell_type": "code",
   "source": [
    "START = 100\n",
    "NUMBER_OF_ELEMENTS = 2100\n",
    "STEPS = 100\n",
    "\n",
    "plt.figure()\n",
    "# enable the grid\n",
    "plt.grid(True)\n",
    "plt.xlabel(\"Number of elements\")\n",
    "plt.ylabel(\"Time (ms)\")\n",
    "plt.title(\"Time taken to sum elements\")\n",
    "\n",
    "\n",
    "\n",
    "plt.plot(range(START, NUMBER_OF_ELEMENTS, STEPS), times_numpy, label=\"Numpy Sum Operation\")\n",
    "plt.plot(range(START, NUMBER_OF_ELEMENTS, STEPS), times_tenseal, label=\"TenSEAL Sum Operation\")\n",
    "plt.plot(range(START, NUMBER_OF_ELEMENTS, STEPS), times_tenseal_encrypt, label=\"TenSEAL Encrypt\")\n",
    "plt.plot(range(START, NUMBER_OF_ELEMENTS, STEPS), times_tenseal_decrypt, label=\"TenSEAL Decrypt\")\n",
    "# plt.plot(range(100, NUMBER_OF_ELEMENTS, STEPS), times_tenseal_single, label=\"TenSEAL Single\")\n",
    "\n",
    "# enable legend\n",
    "plt.legend()"
   ],
   "outputs": [],
   "execution_count": null
  },
  {
   "cell_type": "markdown",
   "source": [
    "# Time difference between numpy and tenseal"
   ],
   "metadata": {
    "collapsed": false
   }
  },
  {
   "cell_type": "code",
   "source": [
    "# only plot the time difference between numpy and tenseal and not the single sum\n",
    "\n",
    "plt.figure()\n",
    "# enable the grid\n",
    "plt.grid(True)\n",
    "plt.xlabel(\"Number of elements\")\n",
    "plt.ylabel(\"Time for operation (ms)\")\n",
    "plt.title(\"Time difference between numpy and tenseal: Sum Operation\")\n",
    "times_tenseal_sum = [tenseal + tenseal_decrypt + tenseal_encrypt for tenseal, tenseal_decrypt, tenseal_encrypt in zip(times_tenseal, times_tenseal_decrypt, times_tenseal_encrypt)]\n",
    "\n",
    "#plt.plot(range(100, NUMBER_OF_ELEMENTS, STEPS), time_diff, label=\"Numpy - TenSEAL\")\n",
    "plt.plot(range(100, NUMBER_OF_ELEMENTS, STEPS), times_numpy, label=\"Numpy\")\n",
    "plt.plot(range(100, NUMBER_OF_ELEMENTS, STEPS), times_tenseal_sum, label=\"TenSEAL\")\n",
    "plt.legend()"
   ],
   "metadata": {
    "collapsed": false,
    "jupyter": {
     "is_executing": true
    }
   },
   "outputs": [],
   "execution_count": null
  },
  {
   "cell_type": "code",
   "source": [
    "# calculate the average time difference\n",
    "\n",
    "time_diff = [numpy - tenseal for numpy, tenseal in zip(times_numpy, times_tenseal_sum)]\n",
    "avg_diff = abs(sum(time_diff) / len(time_diff))\n",
    "print(f\"Average time difference: {avg_diff} ms\")"
   ],
   "metadata": {
    "collapsed": false,
    "jupyter": {
     "is_executing": true
    }
   },
   "outputs": [],
   "execution_count": null
  },
  {
   "metadata": {},
   "cell_type": "markdown",
   "source": [
    "# Calculate bigger encrpyted Vectors by splitting them in equal chunks\n",
    "\n",
    "- split the vector into smaller chunks\n",
    "- encrypt the chunks\n",
    "- sum the chunks\n",
    "- sum the sums"
   ]
  },
  {
   "metadata": {
    "jupyter": {
     "is_executing": true
    }
   },
   "cell_type": "code",
   "source": [
    "def calculate_encrypted_sum_multiple(vector):\n",
    "    \"\"\"\n",
    "    This functions doesn't work! cant compute on vectors of different sizes\n",
    "\n",
    "    if the vector is too large, we can split it into smaller chunks\n",
    "    and sum the chunks\n",
    "    :param vector:\n",
    "    :return:\n",
    "    \"\"\"\n",
    "    divisor = int(POLY_MODULUS_DEGREE / 2) # this is the maximum size of the vector that can be encrypted\n",
    "    #if len(vector) % divisor != 0:\n",
    "    #    raise ValueError(\"The vector size must be a multiple of the divisor\")\n",
    "\n",
    "    sums = []\n",
    "    if len(vector) > divisor:\n",
    "        for i in range(0, len(vector), divisor):\n",
    "            chunk = vector[i:i+divisor]\n",
    "            encrypted_chunk = ts.bfv_vector(context, chunk)\n",
    "            encrypted_sum = encrypted_chunk.sum()\n",
    "            sums.append(encrypted_sum)\n",
    "    else:\n",
    "        encrypted_vector = ts.bfv_vector(context, vector)\n",
    "        encrypted_sum = encrypted_vector.sum()\n",
    "        sums.append(encrypted_sum)\n",
    "    \n",
    "    # print(f\"Number of blocks: {len(sums)}\")\n",
    "\n",
    "    encrypted_sum = sums[0]\n",
    "    for s in sums[1:]:\n",
    "        encrypted_sum += s\n",
    "\n",
    "    decrypted_sum = encrypted_sum.decrypt()\n",
    "    return decrypted_sum\n",
    "\n",
    "\n",
    "vector = [1 for i in range(1700)]\n",
    "s = sum(vector)\n",
    "vector_sum = calculate_encrypted_sum_multiple(vector)\n",
    "print(f\"Encrypted sum: {vector_sum} / {sum(vector)}\")"
   ],
   "outputs": [],
   "execution_count": null
  },
  {
   "metadata": {
    "jupyter": {
     "is_executing": true
    }
   },
   "cell_type": "code",
   "source": [
    "def encrypt_vector_for_sum(vector: list) -> (list, int):\n",
    "    \"\"\"\n",
    "    Encrypt the vector, if the vector is too large, we can split it into smaller chunks and return the encrypted chunks\n",
    "    and number of chunks\n",
    "    :Note: This only works for sum operations because the resulting vectors can be of different sizes\n",
    "    :param vector:\n",
    "    :return:\n",
    "    \"\"\"\n",
    "    divisor = int(POLY_MODULUS_DEGREE / 2)  # the divisor splits the vector into smaller chunks to be encrypted,\n",
    "    encrypted_chunks = []\n",
    "    if len(vector) > divisor:\n",
    "        for i in range(0, len(vector), divisor):\n",
    "            chunk = vector[i:i + divisor]\n",
    "            encrypted_chunk = ts.bfv_vector(context, chunk)\n",
    "            encrypted_chunks.append(encrypted_chunk)\n",
    "    else:\n",
    "        encrypted_vector = ts.bfv_vector(context, vector)\n",
    "        encrypted_chunks.append(encrypted_vector)\n",
    "\n",
    "    return encrypted_chunks, len(vector)\n",
    "\n",
    "\n",
    "def sum_encrypted_vector(encrypted_vectors: list[ts.bfv_vector]) -> ts.bfv_vector:\n",
    "    encrypted_sum = encrypted_vectors[0].sum()\n",
    "    for s in encrypted_vectors[1:]:\n",
    "        encrypted_sum += s.sum()\n",
    "    return encrypted_sum\n",
    "\n"
   ],
   "outputs": [],
   "execution_count": null
  },
  {
   "cell_type": "code",
   "source": [
    "vector = [1 for i in range(10000)]\n",
    "encrypted_chunks, num_elements = encrypt_vector_for_sum(vector)\n",
    "encrypted_sum = sum_encrypted_vector(encrypted_chunks)\n",
    "decrypted_sum = encrypted_sum.decrypt()\n",
    "print(f\"Encrypted sum: {decrypted_sum} Expected: {sum(vector)}\")"
   ],
   "metadata": {
    "collapsed": false,
    "jupyter": {
     "is_executing": true
    }
   },
   "outputs": [],
   "execution_count": null
  },
  {
   "cell_type": "code",
   "source": [
    "import matplotlib.pyplot as plt\n",
    "\n",
    "times_numpy = []\n",
    "times_tenseal = []\n",
    "times_tenseal_encrypt = []\n",
    "times_tenseal_decrypt = []\n",
    "\n",
    "START = 1000\n",
    "NUMBER_OF_ELEMENTS = 10000\n",
    "STEPS = 1000\n",
    "\n",
    "for i in range(START, NUMBER_OF_ELEMENTS, STEPS):\n",
    "    vector = [1 for i in range(i)]\n",
    "    arr = np.ones(i)\n",
    "    \n",
    "    times_temp = []\n",
    "    for j in range(1000):\n",
    "        start = time.perf_counter_ns()\n",
    "        sum_vector = np.sum(arr)\n",
    "        stop = time.perf_counter_ns()\n",
    "        times_temp.append((stop-start)/1e6)\n",
    "    times_numpy.append(sum(times_temp)/len(times_temp))\n",
    "    \n",
    "    times_temp.clear()\n",
    "    times_temp_encrypt = []\n",
    "    times_temp_decrypt = []\n",
    "    for j in range(100):\n",
    "        start = time.perf_counter_ns()\n",
    "        encrypted_chunks, _ = encrypt_vector_for_sum(vector)\n",
    "        times_temp_encrypt.append((time.perf_counter_ns()-start)/1e6)\n",
    "        \n",
    "        start = time.perf_counter_ns()\n",
    "        encrypted_sum = sum_encrypted_vector(encrypted_chunks)\n",
    "        times_temp.append((time.perf_counter_ns()-start)/1e6)\n",
    "        \n",
    "        start = time.perf_counter_ns()\n",
    "        decrypted_sum = encrypted_sum.decrypt()\n",
    "        times_temp_decrypt.append((time.perf_counter_ns()-start)/1e6)\n",
    "        \n",
    "    \n",
    "    # times_tenseal.append(sum(times_temp)/len(times_temp))\n",
    "    # times_tenseal_encrypt.append(sum(times_temp_encrypt)/len(times_temp_encrypt))\n",
    "    # times_tenseal_decrypt.append(sum(times_temp_decrypt)/len(times_temp_decrypt))\n",
    "    # use median instead of mean\n",
    "    times_tenseal.append(np.median(times_temp))\n",
    "    times_tenseal_encrypt.append(np.median(times_temp_encrypt))\n",
    "    times_tenseal_decrypt.append(np.median(times_temp_decrypt))\n",
    "    \n",
    "    print(f\"Done with {i} elements\")\n"
   ],
   "metadata": {
    "collapsed": false,
    "jupyter": {
     "is_executing": true
    }
   },
   "outputs": [],
   "execution_count": null
  },
  {
   "metadata": {
    "jupyter": {
     "is_executing": true
    }
   },
   "cell_type": "code",
   "source": [
    "# plot the time difference between numpy and tenseal\n",
    "plt.figure()\n",
    "# enable the grid\n",
    "plt.grid(True)\n",
    "plt.xlabel(\"Number of elements\")\n",
    "plt.ylabel(\"Time (ms)\")\n",
    "plt.title(\"Time taken to sum elements\")\n",
    "\n",
    "\n",
    "plt.plot(range(START, NUMBER_OF_ELEMENTS, STEPS), times_numpy, label=\"Numpy Sum Operation\")\n",
    "plt.plot(range(START, NUMBER_OF_ELEMENTS, STEPS), times_tenseal, label=\"TenSEAL Sum Operation\")\n",
    "plt.plot(range(START, NUMBER_OF_ELEMENTS, STEPS), times_tenseal_encrypt, label=\"TenSEAL Encrypt\")\n",
    "plt.plot(range(START, NUMBER_OF_ELEMENTS, STEPS), times_tenseal_decrypt, label=\"TenSEAL Decrypt\")\n",
    "\n",
    "# enable legend\n",
    "plt.legend()"
   ],
   "outputs": [],
   "execution_count": null
  },
  {
   "cell_type": "code",
   "source": [
    "times_tenseal_sum = [tenseal + tenseal_decrypt + tenseal_encrypt for tenseal, tenseal_decrypt, tenseal_encrypt in zip(times_tenseal, times_tenseal_decrypt, times_tenseal_encrypt)]\n",
    "print(f\"Time numpy                 min: {min(times_numpy)} max: {max(times_numpy)}\")\n",
    "print(f\"Time tenseal sum operation min: {min(times_tenseal)} max: {max(times_tenseal)}\")\n",
    "print(f\"Time tenseal encrypt       min: {min(times_tenseal_encrypt)} max: {max(times_tenseal_encrypt)}\")\n",
    "print(f\"Time max tenseal decrypt   min: {min(times_tenseal_decrypt)} max: {max(times_tenseal_decrypt)}\")\n",
    "print(f\"Time max tenseal total     min {min(times_tenseal_sum)} max: {max(times_tenseal_sum)}\")\n",
    "times_numpy_avg = sum(times_numpy)/len(times_numpy)\n",
    "print(f\"max factor: {times_tenseal_sum[-1]/times_numpy_avg}\")"
   ],
   "metadata": {
    "collapsed": false,
    "jupyter": {
     "is_executing": true
    }
   },
   "outputs": [],
   "execution_count": null
  },
  {
   "cell_type": "code",
   "source": [
    "# plot the time difference between numpy and tenseal\n",
    "plt.figure()\n",
    "# enable the grid\n",
    "plt.grid(True)\n",
    "plt.xlabel(\"Number of elements\")\n",
    "plt.ylabel(\"Time difference in percent\")\n",
    "plt.title(\"Time difference between numpy and tenseal\")\n",
    "\n",
    "time_diff = [tenseal - numpy for numpy, tenseal in zip(times_numpy, times_tenseal_sum)]\n",
    "plt.plot(range(START, NUMBER_OF_ELEMENTS, STEPS), time_diff, label=\"Numpy - TenSEAL\")\n",
    "plt.legend()"
   ],
   "metadata": {
    "collapsed": false,
    "jupyter": {
     "is_executing": true
    }
   },
   "outputs": [],
   "execution_count": null
  },
  {
   "metadata": {
    "jupyter": {
     "is_executing": true
    }
   },
   "cell_type": "code",
   "source": [
    "# linear regression to draw a line through the data\n",
    "from sklearn.linear_model import LinearRegression\n",
    "\n",
    "X = np.array(range(START, NUMBER_OF_ELEMENTS, STEPS)).reshape(-1, 1)\n",
    "\n",
    "reg = LinearRegression().fit(X, time_diff)\n",
    "reg.score(X, time_diff)\n",
    "\n",
    "plt.figure()\n",
    "# enable the grid\n",
    "plt.grid(True)\n",
    "plt.xlabel(\"Number of elements\")\n",
    "plt.ylabel(\"Time difference in factors\")\n",
    "plt.title(\"Time difference between numpy and tenseal\")\n",
    "plt.plot(range(START, NUMBER_OF_ELEMENTS, STEPS), time_diff, label=\"Numpy - TenSEAL\")\n",
    "plt.plot(X, reg.predict(X), label=\"Linear regression\")\n",
    "plt.legend()"
   ],
   "outputs": [],
   "execution_count": null
  },
  {
   "metadata": {
    "jupyter": {
     "is_executing": true
    }
   },
   "cell_type": "code",
   "source": [
    "# plot the time difference between numpy and tenseal\n",
    "plt.figure()\n",
    "# enable the grid\n",
    "plt.grid(True)\n",
    "plt.xlabel(\"Number of elements\")\n",
    "plt.ylabel(\"Time difference (ms)\")\n",
    "plt.title(\"Time difference between numpy and tenseal\")\n",
    "z = list(zip(times_numpy, times_tenseal))\n",
    "time_diff = [tenseal - numpy for numpy, tenseal in zip(times_numpy, times_tenseal)]\n",
    "plt.plot(range(START, NUMBER_OF_ELEMENTS, STEPS), time_diff, label=\"Numpy - TenSEAL\")\n",
    "plt.legend()\n",
    "\n"
   ],
   "outputs": [],
   "execution_count": null
  },
  {
   "metadata": {},
   "cell_type": "markdown",
   "source": "# Size Difference of plain vs encrypted data"
  },
  {
   "metadata": {
    "jupyter": {
     "is_executing": true
    }
   },
   "cell_type": "code",
   "source": [
    "import base64\n",
    "\n",
    "def serialize_encrypted_vector(encrypted_vectors: ts.bfv_vector) -> str:\n",
    "    \"\"\"\n",
    "    Serialize the encrypted vector to bytes and then to base64\n",
    "    :param encrypted_vectors: encrypted vector\n",
    "    :return: serialized encrypted vector\n",
    "    \"\"\"\n",
    "    bytes = encrypted_vectors.serialize()\n",
    "    serialized = base64.b64encode(bytes).decode('utf-8')\n",
    "    return serialized\n",
    "\n",
    "\n",
    "def serialize_encrypted_vectors(encrypted_vectors: list[ts.bfv_vector]) -> list[str]:\n",
    "    \"\"\"\n",
    "    Serialize the encrypted vectors to bytes and then to base64\n",
    "    :param encrypted_vectors: list of encrypted vectors\n",
    "    :return: list of serialized encrypted vectors\n",
    "    \"\"\"\n",
    "\n",
    "\n",
    "    serialized_vectors = []\n",
    "    for v in encrypted_vectors:\n",
    "        serialized = serialize_encrypted_vector(v)\n",
    "        serialized_vectors.append(serialized)\n",
    "    return serialized_vectors"
   ],
   "outputs": [],
   "execution_count": null
  },
  {
   "metadata": {
    "jupyter": {
     "is_executing": true
    }
   },
   "cell_type": "code",
   "source": [
    "import matplotlib.pyplot as plt\n",
    "\n",
    "sizes_plain = []\n",
    "sizes_encrypted = []\n",
    "\n",
    "START = 10000\n",
    "NUMBER_OF_ELEMENTS = 500000\n",
    "STEPS = 10000\n",
    "print(\"Calculating sizes\")\n",
    "for i in range(START, NUMBER_OF_ELEMENTS, STEPS):\n",
    "    print(f\"Calculating for {i} elements\")\n",
    "    vector = [1 for i in range(i)]\n",
    "    arr = np.ones(i)\n",
    "\n",
    "    start = time.perf_counter_ns()\n",
    "    size = arr.nbytes\n",
    "    size_kb = size/1024\n",
    "    size_mb = size_kb/1024\n",
    "    stop = time.perf_counter_ns()\n",
    "    sizes_plain.append(size_mb)\n",
    "\n",
    "    #print(f\"Done with numpy\")\n",
    "\n",
    "    start = time.perf_counter_ns()\n",
    "    \n",
    "    encrypted_vectors, num_elements = encrypt_vector_for_sum(vector)\n",
    "    serialized_vectors = serialize_encrypted_vectors(encrypted_vectors)\n",
    "    size = sum([len(s) for s in serialized_vectors])\n",
    "    size_kb = size/1024\n",
    "    size_mb = size_kb/1024\n",
    "    stop = time.perf_counter_ns()\n",
    "    sizes_encrypted.append(size_mb)\n",
    "    #print(f\"Done with {i} elements\")\n",
    "\n",
    "plt.figure()\n",
    "# enable the grid\n",
    "plt.grid(True)\n",
    "plt.xlabel(\"Number of elements\")\n",
    "plt.ylabel(\"Size (Mb)\")\n",
    "plt.title(\"Size of plain vs encrypted data\")\n",
    "\n",
    "plt.plot(range(START, NUMBER_OF_ELEMENTS, STEPS), sizes_plain, label=\"Plain\")\n",
    "plt.plot(range(START, NUMBER_OF_ELEMENTS, STEPS), sizes_encrypted, label=\"Encrypted\")\n",
    "\n",
    "# enable legend\n",
    "plt.legend()\n"
   ],
   "outputs": [],
   "execution_count": null
  },
  {
   "metadata": {},
   "cell_type": "markdown",
   "source": "# Bigger Poly Modulus Degree"
  },
  {
   "metadata": {
    "jupyter": {
     "is_executing": true
    }
   },
   "cell_type": "code",
   "source": [
    "POLY_MODULUS_DEGREE = 4096 * 4\n",
    "#POLY_MODULUS_DEGREE = 16384\n",
    "# Setup TenSEAL context\n",
    "context = ts.context(\n",
    "    ts.SCHEME_TYPE.BFV,\n",
    "    poly_modulus_degree=POLY_MODULUS_DEGREE,\n",
    "    plain_modulus=536903681\n",
    ")\n",
    "context.generate_galois_keys()"
   ],
   "outputs": [],
   "execution_count": null
  },
  {
   "metadata": {
    "jupyter": {
     "is_executing": true
    }
   },
   "cell_type": "code",
   "source": [
    "def encrypt_vector_for_sum(vector: list) -> (list, int):\n",
    "    \"\"\"\n",
    "    Encrypt the vector, if the vector is too large, we can split it into smaller chunks and return the encrypted chunks\n",
    "    and number of chunks\n",
    "    :Note: This only works for sum operations because the resulting vectors can be of different sizes\n",
    "    :param vector:\n",
    "    :return:\n",
    "    \"\"\"\n",
    "    divisor = int(POLY_MODULUS_DEGREE / 2)  # the divisor splits the vector into smaller chunks to be encrypted,\n",
    "    encrypted_chunks = []\n",
    "    if len(vector) > divisor:\n",
    "        for i in range(0, len(vector), divisor):\n",
    "            chunk = vector[i:i + divisor]\n",
    "            encrypted_chunk = ts.bfv_vector(context, chunk)\n",
    "            encrypted_chunks.append(encrypted_chunk)\n",
    "    else:\n",
    "        encrypted_vector = ts.bfv_vector(context, vector)\n",
    "        encrypted_chunks.append(encrypted_vector)\n",
    "\n",
    "    return encrypted_chunks, len(vector)\n",
    "\n",
    "\n",
    "def sum_encrypted_vector(encrypted_vectors: list[ts.bfv_vector]) -> ts.bfv_vector:\n",
    "    encrypted_sum = encrypted_vectors[0].sum()\n",
    "    for s in encrypted_vectors[1:]:\n",
    "        encrypted_sum += s.sum()\n",
    "    return encrypted_sum"
   ],
   "outputs": [],
   "execution_count": null
  },
  {
   "metadata": {
    "jupyter": {
     "is_executing": true
    }
   },
   "cell_type": "code",
   "source": [
    "import matplotlib.pyplot as plt\n",
    "\n",
    "sizes_plain = []\n",
    "sizes_encrypted = []\n",
    "\n",
    "START = 10000\n",
    "NUMBER_OF_ELEMENTS = 500000\n",
    "STEPS = 10000\n",
    "print(\"Calculating sizes\")\n",
    "for i in range(START, NUMBER_OF_ELEMENTS, STEPS):\n",
    "    print(f\"Calculating for {i} elements\")\n",
    "    vector = [1 for i in range(i)]\n",
    "    arr = np.ones(i)\n",
    "\n",
    "    size = arr.nbytes\n",
    "    size_kb = size/1024\n",
    "    size_mb = size_kb/1024\n",
    "    sizes_plain.append(size_mb)\n",
    "    \n",
    "    encrypted_vectors, num_elements = encrypt_vector_for_sum(vector)\n",
    "    serialized_vectors = serialize_encrypted_vectors(encrypted_vectors)\n",
    "    size = sum([len(s) for s in serialized_vectors])\n",
    "    size_kb = size/1024\n",
    "    size_mb = size_kb/1024\n",
    "    sizes_encrypted.append(size_mb)\n",
    "    \n",
    "    #print(f\"Done with {i} elements\")\n"
   ],
   "outputs": [],
   "execution_count": null
  },
  {
   "metadata": {
    "jupyter": {
     "is_executing": true
    }
   },
   "cell_type": "code",
   "source": [
    "plt.figure()\n",
    "# enable the grid\n",
    "plt.grid(True)\n",
    "plt.xlabel(\"Number of elements\")\n",
    "plt.ylabel(\"Size (Mb)\")\n",
    "plt.title(\"Size of plain data vs encrypted data\")\n",
    "\n",
    "plt.plot(range(START, NUMBER_OF_ELEMENTS, STEPS), sizes_plain, label=\"Plain\")\n",
    "plt.plot(range(START, NUMBER_OF_ELEMENTS, STEPS), sizes_encrypted, label=\"Encrypted\")\n",
    "\n",
    "# enable legend\n",
    "plt.legend()"
   ],
   "outputs": [],
   "execution_count": null
  },
  {
   "metadata": {
    "jupyter": {
     "is_executing": true
    }
   },
   "cell_type": "code",
   "source": "",
   "outputs": [],
   "execution_count": null
  }
 ],
 "metadata": {
  "kernelspec": {
   "display_name": "Python 3",
   "language": "python",
   "name": "python3"
  },
  "language_info": {
   "codemirror_mode": {
    "name": "ipython",
    "version": 2
   },
   "file_extension": ".py",
   "mimetype": "text/x-python",
   "name": "python",
   "nbconvert_exporter": "python",
   "pygments_lexer": "ipython2",
   "version": "2.7.6"
  }
 },
 "nbformat": 4,
 "nbformat_minor": 0
}
